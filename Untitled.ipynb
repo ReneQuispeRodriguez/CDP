{
 "cells": [
  {
   "cell_type": "markdown",
   "id": "228c3488",
   "metadata": {},
   "source": [
    "# Concrete Damage Plasticity (CDP)"
   ]
  },
  {
   "cell_type": "markdown",
   "id": "9200aef8",
   "metadata": {},
   "source": [
    "O modelo CDP para cargas monotónicas foi formulado inicialmente por Lubliner et al. (1989), sendo posteriormente adaptado para cargas cíclicas por Lee e Fenves (1998;2001). O CDP é uma combinação da teoria de plasticidade e mecânica do dano."
   ]
  },
  {
   "cell_type": "markdown",
   "id": "f1aece1d",
   "metadata": {},
   "source": [
    "## Formulação"
   ]
  },
  {
   "cell_type": "markdown",
   "id": "9d140f43",
   "metadata": {},
   "source": [
    "A relação tensão-deformação pode ser definida pela seguinte equação:\n",
    "\n",
    "$$\n",
    "\\boldsymbol{\\sigma} = (1 - d)\\boldsymbol{D^{el}_{0}}:(\\boldsymbol{\\varepsilon} - \\boldsymbol{\\varepsilon_{pl}}),\n",
    "$$"
   ]
  },
  {
   "cell_type": "markdown",
   "id": "87de9dc8",
   "metadata": {},
   "source": [
    "onde $\\boldsymbol{D^{el}_{0}}$ é a matriz de rigidez inicial do estado linear-elástico. O parâmetro de dano $d$ pode ser obtido da sequinte expressão:\n",
    "\n",
    "$$\n",
    "1 - d = (1 - s_{t}d_{c})(1 - s_{c}d_{t}),\n",
    "$$"
   ]
  },
  {
   "cell_type": "code",
   "execution_count": null,
   "id": "71f5017b",
   "metadata": {},
   "outputs": [],
   "source": []
  }
 ],
 "metadata": {
  "kernelspec": {
   "display_name": "Python 3",
   "language": "python",
   "name": "python3"
  },
  "language_info": {
   "codemirror_mode": {
    "name": "ipython",
    "version": 3
   },
   "file_extension": ".py",
   "mimetype": "text/x-python",
   "name": "python",
   "nbconvert_exporter": "python",
   "pygments_lexer": "ipython3",
   "version": "3.7.12"
  }
 },
 "nbformat": 4,
 "nbformat_minor": 5
}
